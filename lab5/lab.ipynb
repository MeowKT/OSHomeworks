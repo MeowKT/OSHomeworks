{
 "cells": [
  {
   "cell_type": "markdown",
   "metadata": {},
   "source": [
    "# 1 задание 1 эксперимент "
   ]
  },
  {
   "cell_type": "code",
   "execution_count": 1,
   "metadata": {},
   "outputs": [],
   "source": [
    "%%bash\n",
    "grep \"KiB Mem : \" 1/exp1/top.log | awk '{print $6 / 1024}' > 1/exp1/mem_info\n",
    "grep \"KiB Swap: \" 1/exp1/top.log | awk '{print $5 / 1024}' > 1/exp1/swap_info"
   ]
  },
  {
   "cell_type": "code",
   "execution_count": 2,
   "metadata": {},
   "outputs": [],
   "source": [
    "import numpy as np\n",
    "from matplotlib import pyplot as plt\n",
    "\n",
    "def get_plot(mem_info_path, swap_info_path):\n",
    "    mem_file = open(mem_info_path, \"r\")\n",
    "    mem_data = np.array((list(map(lambda x: float(x.replace(\",\", \".\")), mem_file.read().split(\"\\n\")[:-1]))))\n",
    "    mem_file.close()\n",
    "    \n",
    "    swap_file = open(swap_info_path, \"r\")\n",
    "    swap_data = np.array((list(map(lambda x: float(x.replace(\",\", \".\")), swap_file.read().split(\"\\n\")[:-1]))))\n",
    "    swap_file.close()\n",
    "\n",
    "    osx = np.arange(1, 2 * len(mem_data), 2)\n",
    "    plt.figure(figsize=(15, 7))    \n",
    "    plt.plot(osx, mem_data, 'red', label='free_mem')\n",
    "    plt.plot(osx, swap_data, 'blue', label='free_swap')\n",
    "    plt.xlabel(\"time in seconds\")\n",
    "    plt.ylabel(\"free memory in mBs\")\n",
    "    plt.legend()"
   ]
  },
  {
   "cell_type": "code",
   "execution_count": 3,
   "metadata": {},
   "outputs": [
    {
     "name": "stdout",
     "output_type": "stream",
     "text": [
      "2358,69\n",
      "2247,21\n",
      "2142,83\n",
      "2046,12\n",
      "1912,49\n",
      "1774,43\n",
      "1638,31\n",
      "1500,74\n",
      "1364,65\n",
      "1227,57\n",
      "1091,48\n",
      "971,387\n",
      "867,535\n",
      "762,207\n",
      "656,879\n",
      "554,012\n",
      "434,41\n",
      "307,918\n",
      "175,273\n",
      "99,0859\n",
      "108,195\n",
      "112,281\n",
      "102,676\n",
      "99,0273\n",
      "103,383\n",
      "114,984\n",
      "113,762\n",
      "3415,97\n",
      "3392,06\n",
      "3389,32\n",
      "3388,5\n",
      "3362,77\n",
      "3362,54\n",
      "3361,37\n",
      "3361,37\n",
      "\n"
     ]
    },
    {
     "ename": "ValueError",
     "evalue": "x and y must have same first dimension, but have shapes (0,) and (35,)",
     "output_type": "error",
     "traceback": [
      "\u001b[0;31m---------------------------------------------------------------------------\u001b[0m",
      "\u001b[0;31mValueError\u001b[0m                                Traceback (most recent call last)",
      "\u001b[0;32m<ipython-input-3-36717249a35c>\u001b[0m in \u001b[0;36m<module>\u001b[0;34m\u001b[0m\n\u001b[0;32m----> 1\u001b[0;31m get_plot(\"1/exp1/mem_info\", \n\u001b[0m\u001b[1;32m      2\u001b[0m          \"1/exp1/swap_info\")\n",
      "\u001b[0;32m<ipython-input-2-37accffe7d8a>\u001b[0m in \u001b[0;36mget_plot\u001b[0;34m(mem_info_path, swap_info_path)\u001b[0m\n\u001b[1;32m     15\u001b[0m     \u001b[0mplt\u001b[0m\u001b[0;34m.\u001b[0m\u001b[0mfigure\u001b[0m\u001b[0;34m(\u001b[0m\u001b[0mfigsize\u001b[0m\u001b[0;34m=\u001b[0m\u001b[0;34m(\u001b[0m\u001b[0;36m15\u001b[0m\u001b[0;34m,\u001b[0m \u001b[0;36m7\u001b[0m\u001b[0;34m)\u001b[0m\u001b[0;34m)\u001b[0m\u001b[0;34m\u001b[0m\u001b[0;34m\u001b[0m\u001b[0m\n\u001b[1;32m     16\u001b[0m     \u001b[0mplt\u001b[0m\u001b[0;34m.\u001b[0m\u001b[0mplot\u001b[0m\u001b[0;34m(\u001b[0m\u001b[0mosx\u001b[0m\u001b[0;34m,\u001b[0m \u001b[0mmem_data\u001b[0m\u001b[0;34m,\u001b[0m \u001b[0;34m'red'\u001b[0m\u001b[0;34m,\u001b[0m \u001b[0mlabel\u001b[0m\u001b[0;34m=\u001b[0m\u001b[0;34m'free_mem'\u001b[0m\u001b[0;34m)\u001b[0m\u001b[0;34m\u001b[0m\u001b[0;34m\u001b[0m\u001b[0m\n\u001b[0;32m---> 17\u001b[0;31m     \u001b[0mplt\u001b[0m\u001b[0;34m.\u001b[0m\u001b[0mplot\u001b[0m\u001b[0;34m(\u001b[0m\u001b[0mosx\u001b[0m\u001b[0;34m,\u001b[0m \u001b[0mswap_data\u001b[0m\u001b[0;34m,\u001b[0m \u001b[0;34m'blue'\u001b[0m\u001b[0;34m,\u001b[0m \u001b[0mlabel\u001b[0m\u001b[0;34m=\u001b[0m\u001b[0;34m'free_swap'\u001b[0m\u001b[0;34m)\u001b[0m\u001b[0;34m\u001b[0m\u001b[0;34m\u001b[0m\u001b[0m\n\u001b[0m\u001b[1;32m     18\u001b[0m     \u001b[0mplt\u001b[0m\u001b[0;34m.\u001b[0m\u001b[0mxlabel\u001b[0m\u001b[0;34m(\u001b[0m\u001b[0;34m\"time in seconds\"\u001b[0m\u001b[0;34m)\u001b[0m\u001b[0;34m\u001b[0m\u001b[0;34m\u001b[0m\u001b[0m\n\u001b[1;32m     19\u001b[0m     \u001b[0mplt\u001b[0m\u001b[0;34m.\u001b[0m\u001b[0mylabel\u001b[0m\u001b[0;34m(\u001b[0m\u001b[0;34m\"free memory in mBs\"\u001b[0m\u001b[0;34m)\u001b[0m\u001b[0;34m\u001b[0m\u001b[0;34m\u001b[0m\u001b[0m\n",
      "\u001b[0;32m/opt/anaconda3/lib/python3.8/site-packages/matplotlib/pyplot.py\u001b[0m in \u001b[0;36mplot\u001b[0;34m(scalex, scaley, data, *args, **kwargs)\u001b[0m\n\u001b[1;32m   2838\u001b[0m \u001b[0;34m@\u001b[0m\u001b[0m_copy_docstring_and_deprecators\u001b[0m\u001b[0;34m(\u001b[0m\u001b[0mAxes\u001b[0m\u001b[0;34m.\u001b[0m\u001b[0mplot\u001b[0m\u001b[0;34m)\u001b[0m\u001b[0;34m\u001b[0m\u001b[0;34m\u001b[0m\u001b[0m\n\u001b[1;32m   2839\u001b[0m \u001b[0;32mdef\u001b[0m \u001b[0mplot\u001b[0m\u001b[0;34m(\u001b[0m\u001b[0;34m*\u001b[0m\u001b[0margs\u001b[0m\u001b[0;34m,\u001b[0m \u001b[0mscalex\u001b[0m\u001b[0;34m=\u001b[0m\u001b[0;32mTrue\u001b[0m\u001b[0;34m,\u001b[0m \u001b[0mscaley\u001b[0m\u001b[0;34m=\u001b[0m\u001b[0;32mTrue\u001b[0m\u001b[0;34m,\u001b[0m \u001b[0mdata\u001b[0m\u001b[0;34m=\u001b[0m\u001b[0;32mNone\u001b[0m\u001b[0;34m,\u001b[0m \u001b[0;34m**\u001b[0m\u001b[0mkwargs\u001b[0m\u001b[0;34m)\u001b[0m\u001b[0;34m:\u001b[0m\u001b[0;34m\u001b[0m\u001b[0;34m\u001b[0m\u001b[0m\n\u001b[0;32m-> 2840\u001b[0;31m     return gca().plot(\n\u001b[0m\u001b[1;32m   2841\u001b[0m         \u001b[0;34m*\u001b[0m\u001b[0margs\u001b[0m\u001b[0;34m,\u001b[0m \u001b[0mscalex\u001b[0m\u001b[0;34m=\u001b[0m\u001b[0mscalex\u001b[0m\u001b[0;34m,\u001b[0m \u001b[0mscaley\u001b[0m\u001b[0;34m=\u001b[0m\u001b[0mscaley\u001b[0m\u001b[0;34m,\u001b[0m\u001b[0;34m\u001b[0m\u001b[0;34m\u001b[0m\u001b[0m\n\u001b[1;32m   2842\u001b[0m         **({\"data\": data} if data is not None else {}), **kwargs)\n",
      "\u001b[0;32m/opt/anaconda3/lib/python3.8/site-packages/matplotlib/axes/_axes.py\u001b[0m in \u001b[0;36mplot\u001b[0;34m(self, scalex, scaley, data, *args, **kwargs)\u001b[0m\n\u001b[1;32m   1741\u001b[0m         \"\"\"\n\u001b[1;32m   1742\u001b[0m         \u001b[0mkwargs\u001b[0m \u001b[0;34m=\u001b[0m \u001b[0mcbook\u001b[0m\u001b[0;34m.\u001b[0m\u001b[0mnormalize_kwargs\u001b[0m\u001b[0;34m(\u001b[0m\u001b[0mkwargs\u001b[0m\u001b[0;34m,\u001b[0m \u001b[0mmlines\u001b[0m\u001b[0;34m.\u001b[0m\u001b[0mLine2D\u001b[0m\u001b[0;34m)\u001b[0m\u001b[0;34m\u001b[0m\u001b[0;34m\u001b[0m\u001b[0m\n\u001b[0;32m-> 1743\u001b[0;31m         \u001b[0mlines\u001b[0m \u001b[0;34m=\u001b[0m \u001b[0;34m[\u001b[0m\u001b[0;34m*\u001b[0m\u001b[0mself\u001b[0m\u001b[0;34m.\u001b[0m\u001b[0m_get_lines\u001b[0m\u001b[0;34m(\u001b[0m\u001b[0;34m*\u001b[0m\u001b[0margs\u001b[0m\u001b[0;34m,\u001b[0m \u001b[0mdata\u001b[0m\u001b[0;34m=\u001b[0m\u001b[0mdata\u001b[0m\u001b[0;34m,\u001b[0m \u001b[0;34m**\u001b[0m\u001b[0mkwargs\u001b[0m\u001b[0;34m)\u001b[0m\u001b[0;34m]\u001b[0m\u001b[0;34m\u001b[0m\u001b[0;34m\u001b[0m\u001b[0m\n\u001b[0m\u001b[1;32m   1744\u001b[0m         \u001b[0;32mfor\u001b[0m \u001b[0mline\u001b[0m \u001b[0;32min\u001b[0m \u001b[0mlines\u001b[0m\u001b[0;34m:\u001b[0m\u001b[0;34m\u001b[0m\u001b[0;34m\u001b[0m\u001b[0m\n\u001b[1;32m   1745\u001b[0m             \u001b[0mself\u001b[0m\u001b[0;34m.\u001b[0m\u001b[0madd_line\u001b[0m\u001b[0;34m(\u001b[0m\u001b[0mline\u001b[0m\u001b[0;34m)\u001b[0m\u001b[0;34m\u001b[0m\u001b[0;34m\u001b[0m\u001b[0m\n",
      "\u001b[0;32m/opt/anaconda3/lib/python3.8/site-packages/matplotlib/axes/_base.py\u001b[0m in \u001b[0;36m__call__\u001b[0;34m(self, data, *args, **kwargs)\u001b[0m\n\u001b[1;32m    271\u001b[0m                 \u001b[0mthis\u001b[0m \u001b[0;34m+=\u001b[0m \u001b[0margs\u001b[0m\u001b[0;34m[\u001b[0m\u001b[0;36m0\u001b[0m\u001b[0;34m]\u001b[0m\u001b[0;34m,\u001b[0m\u001b[0;34m\u001b[0m\u001b[0;34m\u001b[0m\u001b[0m\n\u001b[1;32m    272\u001b[0m                 \u001b[0margs\u001b[0m \u001b[0;34m=\u001b[0m \u001b[0margs\u001b[0m\u001b[0;34m[\u001b[0m\u001b[0;36m1\u001b[0m\u001b[0;34m:\u001b[0m\u001b[0;34m]\u001b[0m\u001b[0;34m\u001b[0m\u001b[0;34m\u001b[0m\u001b[0m\n\u001b[0;32m--> 273\u001b[0;31m             \u001b[0;32myield\u001b[0m \u001b[0;32mfrom\u001b[0m \u001b[0mself\u001b[0m\u001b[0;34m.\u001b[0m\u001b[0m_plot_args\u001b[0m\u001b[0;34m(\u001b[0m\u001b[0mthis\u001b[0m\u001b[0;34m,\u001b[0m \u001b[0mkwargs\u001b[0m\u001b[0;34m)\u001b[0m\u001b[0;34m\u001b[0m\u001b[0;34m\u001b[0m\u001b[0m\n\u001b[0m\u001b[1;32m    274\u001b[0m \u001b[0;34m\u001b[0m\u001b[0m\n\u001b[1;32m    275\u001b[0m     \u001b[0;32mdef\u001b[0m \u001b[0mget_next_color\u001b[0m\u001b[0;34m(\u001b[0m\u001b[0mself\u001b[0m\u001b[0;34m)\u001b[0m\u001b[0;34m:\u001b[0m\u001b[0;34m\u001b[0m\u001b[0;34m\u001b[0m\u001b[0m\n",
      "\u001b[0;32m/opt/anaconda3/lib/python3.8/site-packages/matplotlib/axes/_base.py\u001b[0m in \u001b[0;36m_plot_args\u001b[0;34m(self, tup, kwargs)\u001b[0m\n\u001b[1;32m    397\u001b[0m \u001b[0;34m\u001b[0m\u001b[0m\n\u001b[1;32m    398\u001b[0m         \u001b[0;32mif\u001b[0m \u001b[0mx\u001b[0m\u001b[0;34m.\u001b[0m\u001b[0mshape\u001b[0m\u001b[0;34m[\u001b[0m\u001b[0;36m0\u001b[0m\u001b[0;34m]\u001b[0m \u001b[0;34m!=\u001b[0m \u001b[0my\u001b[0m\u001b[0;34m.\u001b[0m\u001b[0mshape\u001b[0m\u001b[0;34m[\u001b[0m\u001b[0;36m0\u001b[0m\u001b[0;34m]\u001b[0m\u001b[0;34m:\u001b[0m\u001b[0;34m\u001b[0m\u001b[0;34m\u001b[0m\u001b[0m\n\u001b[0;32m--> 399\u001b[0;31m             raise ValueError(f\"x and y must have same first dimension, but \"\n\u001b[0m\u001b[1;32m    400\u001b[0m                              f\"have shapes {x.shape} and {y.shape}\")\n\u001b[1;32m    401\u001b[0m         \u001b[0;32mif\u001b[0m \u001b[0mx\u001b[0m\u001b[0;34m.\u001b[0m\u001b[0mndim\u001b[0m \u001b[0;34m>\u001b[0m \u001b[0;36m2\u001b[0m \u001b[0;32mor\u001b[0m \u001b[0my\u001b[0m\u001b[0;34m.\u001b[0m\u001b[0mndim\u001b[0m \u001b[0;34m>\u001b[0m \u001b[0;36m2\u001b[0m\u001b[0;34m:\u001b[0m\u001b[0;34m\u001b[0m\u001b[0;34m\u001b[0m\u001b[0m\n",
      "\u001b[0;31mValueError\u001b[0m: x and y must have same first dimension, but have shapes (0,) and (35,)"
     ]
    },
    {
     "data": {
      "image/png": "[encoded data removed]",
      "text/plain": [
       "<Figure size 1080x504 with 1 Axes>"
      ]
     },
     "metadata": {
      "needs_background": "light"
     },
     "output_type": "display_data"
    }
   ],
   "source": [
    "get_plot(\"1/exp1/mem_info\", \n",
    "         \"1/exp1/swap_info\")\n"
   ]
  },
  {
   "cell_type": "code",
   "execution_count": 97,
   "metadata": {},
   "outputs": [
    {
     "name": "stdout",
     "output_type": "stream",
     "text": [
      "\n",
      " PID USER      PR  NI    VIRT    RES    SHR S %CPU %MEM     TIME+ COMMAND\n",
      " 1592 savva     20   0  542576 525768   3164 R 88,9 13,4   0:08.89 mem.sh\n",
      " 1002 savva     20   0 3018732 297708 114632 S  0,0  7,6   0:08.19 gnome-shell\n",
      " 1384 savva     20   0 1083768 165440  36212 S  0,0  4,2   0:02.79 gnome-softw+\n",
      "  625 root      20   0  468604  93520  55812 S  0,0  2,4   0:01.57 Xorg\n",
      " 1308 savva     20   0  894460  67560  27480 S  0,0  1,7   0:00.22 evolution-c+\n",
      "\n",
      "Заметим, что наш процесс выходит на первую строчку почти сразу после его запуска, и начинает линейно кушать оперативную память, пока она не закончится. Как только она кончается, он копирует данные в swap раздел. Потом когда процесс становится убит системой память возобновляется.\n"
     ]
    }
   ],
   "source": [
    "print(\"\"\"\n",
    " PID USER      PR  NI    VIRT    RES    SHR S %CPU %MEM     TIME+ COMMAND\n",
    " 1592 savva     20   0  542576 525768   3164 R 88,9 13,4   0:08.89 mem.sh\n",
    " 1002 savva     20   0 3018732 297708 114632 S  0,0  7,6   0:08.19 gnome-shell\n",
    " 1384 savva     20   0 1083768 165440  36212 S  0,0  4,2   0:02.79 gnome-softw+\n",
    "  625 root      20   0  468604  93520  55812 S  0,0  2,4   0:01.57 Xorg\n",
    " 1308 savva     20   0  894460  67560  27480 S  0,0  1,7   0:00.22 evolution-c+\n",
    "\n",
    "Заметим, что наш процесс выходит на первую строчку почти сразу после его запуска, и начинает линейно кушать оперативную память, пока она не закончится. Как только она кончается, он копирует данные в swap раздел. Потом когда процесс становится убит системой память возобновляется.\"\"\")"
   ]
  },
  {
   "cell_type": "code",
   "execution_count": 45,
   "metadata": {},
   "outputs": [
    {
     "name": "stdout",
     "output_type": "stream",
     "text": [
      "[  198.252330] mem.sh invoked oom-killer: gfp_mask=0x100cca(GFP_HIGHUSER_MOVABLE), order=0, oom_score_adj=0\n",
      "[  198.252334] CPU: 0 PID: 1592 Comm: mem.sh Tainted: G           O      5.4.0-53-generic #59~18.04.1-Ubuntu\n",
      "[  198.252527] [   1592]  1000  1592   868607   863470  6995968      167             0 mem.sh\n",
      "[  198.252535] oom-kill:constraint=CONSTRAINT_NONE,nodemask=(null),cpuset=/,mems_allowed=0,global_oom,task_memcg=/,task=mem.sh,pid=1592,uid=1000\n",
      "[  198.252542] Out of memory: Killed process 1592 (mem.sh) total-vm:3474428kB, anon-rss:3453880kB, file-rss:0kB, shmem-rss:0kB, UID:1000 pgtables:6832kB oom_score_adj:0\n",
      "[  198.520487] oom_reaper: reaped process 1592 (mem.sh), now anon-rss:0kB, file-rss:0kB, shmem-rss:0kB\n"
     ]
    }
   ],
   "source": [
    "%%bash\n",
    "cat 1/exp1/dmesg.txt"
   ]
  },
  {
   "cell_type": "code",
   "execution_count": 72,
   "metadata": {},
   "outputs": [
    {
     "name": "stdout",
     "output_type": "stream",
     "text": [
      "Количество элементов в массиве: 44200000\n"
     ]
    }
   ],
   "source": [
    "%%bash\n",
    "echo \"Количество элементов в массиве: $(tail -1 1/exp1/report.log)\""
   ]
  },
  {
   "cell_type": "markdown",
   "metadata": {},
   "source": [
    "# 1 задание 2 эксперимент"
   ]
  },
  {
   "cell_type": "code",
   "execution_count": 77,
   "metadata": {},
   "outputs": [],
   "source": [
    "%%bash\n",
    "grep \"KiB Mem : \" 1/exp2/top.log | awk '{print $6 / 1024}' > 1/exp2/mem_info\n",
    "grep \"KiB Swap: \" 1/exp2/top.log | awk '{print $5 / 1024}' > 1/exp2/swap_info"
   ]
  },
  {
   "cell_type": "code",
   "execution_count": 78,
   "metadata": {},
   "outputs": [
    {
     "data": {
      "image/png": "[encoded data removed]",
      "text/plain": [
       "<Figure size 1080x504 with 1 Axes>"
      ]
     },
     "metadata": {
      "needs_background": "light"
     },
     "output_type": "display_data"
    }
   ],
   "source": [
    "get_plot(\"1/exp2/mem_info\", \n",
    "         \"1/exp2/swap_info\")"
   ]
  },
  {
   "cell_type": "code",
   "execution_count": 93,
   "metadata": {},
   "outputs": [
    {
     "name": "stdout",
     "output_type": "stream",
     "text": [
      "\n",
      "KiB Mem :  3932600 total,  2325488 free,   976756 used,   630356 buff/cache\n",
      "KiB Swap:   483800 total,   483800 free,        0 used.  2711080 avail Mem \n",
      "\n",
      "  PID USER      PR  NI    VIRT    RES    SHR S %CPU %MEM     TIME+ COMMAND\n",
      " 1011 savva     20   0 3005116 291336 111912 S  0,0  7,4   0:23.80 gnome-shell\n",
      " 1342 savva     20   0 1086524 168836  36988 S  0,0  4,3   0:03.03 gnome-softw+\n",
      " 1577 savva     20   0  116612  99984   3108 R 47,1  2,5   0:01.69 mem2.sh\n",
      " 1576 savva     20   0  104732  88072   3168 R 47,1  2,2   0:01.69 mem1.sh\n",
      "  630 savva     20   0  446072  86004  51148 S  0,0  2,2   0:01.63 Xorg\n",
      "\n",
      "Сразу процессы становятся топ 1-2 по выделенной памяти.\n"
     ]
    }
   ],
   "source": [
    "print(\"\"\"\n",
    "KiB Mem :  3932600 total,  2325488 free,   976756 used,   630356 buff/cache\n",
    "KiB Swap:   483800 total,   483800 free,        0 used.  2711080 avail Mem \n",
    "\n",
    "  PID USER      PR  NI    VIRT    RES    SHR S %CPU %MEM     TIME+ COMMAND\n",
    " 1011 savva     20   0 3005116 291336 111912 S  0,0  7,4   0:23.80 gnome-shell\n",
    " 1342 savva     20   0 1086524 168836  36988 S  0,0  4,3   0:03.03 gnome-softw+\n",
    " 1577 savva     20   0  116612  99984   3108 R 47,1  2,5   0:01.69 mem2.sh\n",
    " 1576 savva     20   0  104732  88072   3168 R 47,1  2,2   0:01.69 mem1.sh\n",
    "  630 savva     20   0  446072  86004  51148 S  0,0  2,2   0:01.63 Xorg\n",
    "\n",
    "Сразу процессы становятся топ 1-2 по выделенной памяти.\"\"\")"
   ]
  },
  {
   "cell_type": "code",
   "execution_count": 90,
   "metadata": {},
   "outputs": [
    {
     "name": "stdout",
     "output_type": "stream",
     "text": [
      "Размер 1 массива до краша 44800000\n",
      "Размер 2 массива до краша 23400000\n"
     ]
    }
   ],
   "source": [
    "%%bash\n",
    "echo \"Размер 1 массива до краша $(tail -1 1/exp2/report1.log)\"\n",
    "echo \"Размер 2 массива до краша $(tail -1 1/exp2/report2.log)\""
   ]
  },
  {
   "cell_type": "code",
   "execution_count": 98,
   "metadata": {},
   "outputs": [
    {
     "name": "stdout",
     "output_type": "stream",
     "text": [
      "[  192.927920] [   1576]  1000  1576   418124   413175  3391488        0             0 mem1.sh\n",
      "[  192.927921] [   1577]  1000  1577   463895   458946  3756032        0             0 mem2.sh\n",
      "[  192.927927] oom-kill:constraint=CONSTRAINT_NONE,nodemask=(null),cpuset=/,mems_allowed=0,global_oom,task_memcg=/,task=mem2.sh,pid=1577,uid=1000\n",
      "[  192.927934] Out of memory: Killed process 1577 (mem2.sh) total-vm:1855580kB, anon-rss:1835784kB, file-rss:0kB, shmem-rss:0kB, UID:1000 pgtables:3668kB oom_score_adj:0\n",
      "[  193.140768] oom_reaper: reaped process 1577 (mem2.sh), now anon-rss:0kB, file-rss:0kB, shmem-rss:0kB\n",
      "[  234.594055] [   1576]  1000  1576   880454   874857  7098368      680             0 mem1.sh\n",
      "[  234.594062] oom-kill:constraint=CONSTRAINT_NONE,nodemask=(null),cpuset=/,mems_allowed=0,global_oom,task_memcg=/,task=mem1.sh,pid=1576,uid=1000\n",
      "[  234.594068] Out of memory: Killed process 1576 (mem1.sh) total-vm:3521816kB, anon-rss:3499428kB, file-rss:0kB, shmem-rss:0kB, UID:1000 pgtables:6932kB oom_score_adj:0\n",
      "[  234.859251] oom_reaper: reaped process 1576 (mem1.sh), now anon-rss:0kB, file-rss:0kB, shmem-rss:0kB\n",
      "[ 1253.771036] [   2028]  1000  2028   460397   455440  3727360        7             0 mem2.sh\n",
      "[ 1253.771037] [   2029]  1000  2029   414527   409550  3362816        5             0 mem1.sh\n",
      "[ 1253.771038] oom-kill:constraint=CONSTRAINT_NONE,nodemask=(null),cpuset=/,mems_allowed=0,global_oom,task_memcg=/,task=mem2.sh,pid=2028,uid=1000\n",
      "[ 1253.771046] Out of memory: Killed process 2028 (mem2.sh) total-vm:1841588kB, anon-rss:1821760kB, file-rss:0kB, shmem-rss:0kB, UID:1000 pgtables:3640kB oom_score_adj:0\n",
      "[ 1253.892741] oom_reaper: reaped process 2028 (mem2.sh), now anon-rss:0kB, file-rss:0kB, shmem-rss:0kB\n",
      "[ 1287.741491] mem1.sh invoked oom-killer: gfp_mask=0x100cca(GFP_HIGHUSER_MOVABLE), order=0, oom_score_adj=0\n",
      "[ 1287.741494] CPU: 0 PID: 2029 Comm: mem1.sh Tainted: G           O      5.4.0-53-generic #59~18.04.1-Ubuntu\n",
      "[ 1287.741696] [   2029]  1000  2029   870290   864130  7016448     1190             0 mem1.sh\n",
      "[ 1287.741696] oom-kill:constraint=CONSTRAINT_NONE,nodemask=(null),cpuset=/,mems_allowed=0,global_oom,task_memcg=/,task=mem1.sh,pid=2029,uid=1000\n",
      "[ 1287.741703] Out of memory: Killed process 2029 (mem1.sh) total-vm:3481160kB, anon-rss:3456520kB, file-rss:0kB, shmem-rss:0kB, UID:1000 pgtables:6852kB oom_score_adj:0\n",
      "[ 1287.901289] oom_reaper: reaped process 2029 (mem1.sh), now anon-rss:0kB, file-rss:0kB, shmem-rss:0kB\n"
     ]
    }
   ],
   "source": [
    "%%bash\n",
    "cat 1/exp2/dmesg.txt"
   ]
  },
  {
   "cell_type": "markdown",
   "metadata": {},
   "source": [
    "# 2 Задание"
   ]
  },
  {
   "cell_type": "markdown",
   "metadata": {},
   "source": [
    "При k = 10 и n = 4090000 - работает норм.\n",
    "Убедимся, что при k = 30 это неверно\n"
   ]
  },
  {
   "cell_type": "code",
   "execution_count": 6,
   "metadata": {},
   "outputs": [
    {
     "name": "stdout",
     "output_type": "stream",
     "text": [
      "[  888.274655] newmem.sh invoked oom-killer: gfp_mask=0x100cca(GFP_HIGHUSER_MOVABLE), order=0, oom_score_adj=0\n",
      "[  888.274659] CPU: 0 PID: 2215 Comm: newmem.sh Tainted: G           O      5.4.0-53-generic #59~18.04.1-Ubuntu\n",
      "[  888.275028] [   2172]  1000  2172    33377    28449   307200        0             0 newmem.sh\n",
      "[  888.275030] [   2173]  1000  2173    33113    28191   303104        0             0 newmem.sh\n",
      "[  888.275031] [   2174]  1000  2174    33344    28406   311296        0             0 newmem.sh\n",
      "[  888.275032] [   2175]  1000  2175    33377    28428   303104        0             0 newmem.sh\n",
      "[  888.275033] [   2176]  1000  2176    33146    28195   303104        0             0 newmem.sh\n",
      "[  888.275035] [   2177]  1000  2177    32981    28006   311296        0             0 newmem.sh\n",
      "[  888.275036] [   2178]  1000  2178    33344    28392   311296        0             0 newmem.sh\n",
      "[  888.275037] [   2179]  1000  2179    33212    28262   294912        0             0 newmem.sh\n",
      "[  888.275038] [   2180]  1000  2180    33245    28299   303104        0             0 newmem.sh\n",
      "[  888.275040] [   2181]  1000  2181    33146    28212   299008        0             0 newmem.sh\n",
      "[  888.275041] [   2182]  1000  2182    32948    28001   294912        0             0 newmem.sh\n",
      "[  888.275042] [   2183]  1000  2183    33410    28475   307200        0             0 newmem.sh\n",
      "[  888.275043] [   2184]  1000  2184    33179    28242   299008        0             0 newmem.sh\n",
      "[  888.275045] [   2185]  1000  2185    33311    28362   299008        0             0 newmem.sh\n",
      "[  888.275046] [   2186]  1000  2186    33509    28566   299008        0             0 newmem.sh\n",
      "[  888.275066] [   2211]  1000  2211    33080    28138   294912        0             0 newmem.sh\n",
      "[  888.275067] [   2212]  1000  2212    33344    28407   311296        0             0 newmem.sh\n",
      "[  888.275068] [   2213]  1000  2213    33047    28083   299008        0             0 newmem.sh\n",
      "[  888.275070] [   2214]  1000  2214    33179    28230   307200        0             0 newmem.sh\n",
      "[  888.275071] [   2215]  1000  2215    33410    28481   307200        0             0 newmem.sh\n",
      "[  888.275072] [   2216]  1000  2216    33311    28383   299008        0             0 newmem.sh\n",
      "[  888.275073] [   2217]  1000  2217    33278    28359   303104        0             0 newmem.sh\n",
      "[  888.275075] [   2218]  1000  2218    33377    28436   307200        0             0 newmem.sh\n",
      "[  888.275076] [   2219]  1000  2219    33146    28217   307200        0             0 newmem.sh\n",
      "[  888.275077] [   2220]  1000  2220    32783    27831   303104        0             0 newmem.sh\n",
      "[  888.275079] [   2222]  1000  2222    33278    28340   311296        0             0 newmem.sh\n",
      "[  888.275080] [   2224]  1000  2224    33410    28490   315392        0             0 newmem.sh\n",
      "[  888.275081] [   2225]  1000  2225    33410    28447   311296        0             0 newmem.sh\n",
      "[  888.275082] [   2226]  1000  2226    33245    28324   303104        0             0 newmem.sh\n",
      "[  888.275085] [   2242]  1000  2242    33410    28467   307200        0             0 newmem.sh\n",
      "[  894.729480] newmem.sh invoked oom-killer: gfp_mask=0x100dca(GFP_HIGHUSER_MOVABLE|__GFP_ZERO), order=0, oom_score_adj=0\n",
      "[  894.729487] CPU: 0 PID: 2216 Comm: newmem.sh Tainted: G           O      5.4.0-53-generic #59~18.04.1-Ubuntu\n",
      "[  894.729823] [   2172]  1000  2172    33905    28536   311296      442             0 newmem.sh\n",
      "[  894.729824] [   2173]  1000  2173    33806    28377   307200      488             0 newmem.sh\n",
      "[  894.729826] [   2174]  1000  2174    33971    28563   319488      487             0 newmem.sh\n",
      "[  894.729828] [   2175]  1000  2175    34136    28777   307200      414             0 newmem.sh\n",
      "[  894.729830] [   2176]  1000  2176    33872    28527   307200      414             0 newmem.sh\n",
      "[  894.729831] [   2177]  1000  2177    33608    28226   315392      437             0 newmem.sh\n",
      "[  894.729833] [   2178]  1000  2178    34103    28614   315392      552             0 newmem.sh\n",
      "[  894.729835] [   2179]  1000  2179    33806    28376   299008      500             0 newmem.sh\n",
      "[  894.729836] [   2180]  1000  2180    33773    28294   311296      521             0 newmem.sh\n",
      "[  894.729838] [   2181]  1000  2181    33773    28451   303104      399             0 newmem.sh\n",
      "[  894.729840] [   2182]  1000  2182    33575    28206   299008      433             0 newmem.sh\n",
      "[  894.729841] [   2183]  1000  2183    34136    28745   311296      450             0 newmem.sh\n",
      "[  894.729843] [   2184]  1000  2184    34235    28863   307200      443             0 newmem.sh\n",
      "[  894.729845] [   2185]  1000  2185    34103    28680   307200      487             0 newmem.sh\n",
      "[  894.729846] [   2186]  1000  2186    34235    28846   307200      414             0 newmem.sh\n",
      "[  894.729872] [   2211]  1000  2211    33740    28366   299008      430             0 newmem.sh\n",
      "[  894.729873] [   2212]  1000  2212    33938    28474   315392      515             0 newmem.sh\n",
      "[  894.729875] [   2213]  1000  2213    33674    28236   307200      504             0 newmem.sh\n",
      "[  894.729877] [   2214]  1000  2214    33740    28375   311296      417             0 newmem.sh\n",
      "[  894.729878] [   2215]  1000  2215    34103    28771   311296      400             0 newmem.sh\n",
      "[  894.729880] [   2216]  1000  2216    34004    28634   303104      440             0 newmem.sh\n",
      "[  894.729882] [   2217]  1000  2217    33905    28472   307200      477             0 newmem.sh\n",
      "[  894.729883] [   2218]  1000  2218    33905    28463   311296      508             0 newmem.sh\n",
      "[  894.729885] [   2219]  1000  2219    33641    28314   311296      397             0 newmem.sh\n",
      "[  894.729887] [   2220]  1000  2220    33443    28054   311296      458             0 newmem.sh\n",
      "[  894.729888] [   2222]  1000  2222    33971    28605   315392      399             0 newmem.sh\n",
      "[  894.729890] [   2224]  1000  2224    34070    28746   319488      404             0 newmem.sh\n",
      "[  894.729892] [   2225]  1000  2225    34037    28652   315392      435             0 newmem.sh\n",
      "[  894.729894] [   2226]  1000  2226    33872    28526   307200      409             0 newmem.sh\n",
      "[  894.729897] [   2242]  1000  2242    34004    28641   311296      444             0 newmem.sh\n",
      "[  899.950800] [   2172]  1000  2172    34565    28146   315392     1451             0 newmem.sh\n",
      "[  899.950801] [   2173]  1000  2173    34367    27906   311296     1497             0 newmem.sh\n",
      "[  899.950802] [   2174]  1000  2174    34631    28282   323584     1417             0 newmem.sh\n",
      "[  899.950803] [   2175]  1000  2175    34763    28325   315392     1477             0 newmem.sh\n",
      "[  899.950804] [   2176]  1000  2176    34499    28089   315392     1410             0 newmem.sh\n",
      "[  899.950805] [   2177]  1000  2177    34202    27883   319488     1370             0 newmem.sh\n",
      "[  899.950806] [   2178]  1000  2178    34730    28195   319488     1575             0 newmem.sh\n",
      "[  899.950807] [   2179]  1000  2179    34400    27937   303104     1487             0 newmem.sh\n",
      "[  899.950808] [   2180]  1000  2180    34367    27815   315392     1550             0 newmem.sh\n",
      "[  899.950809] [   2181]  1000  2181    34301    27983   307200     1368             0 newmem.sh\n",
      "[  899.950810] [   2182]  1000  2182    34169    27783   303104     1402             0 newmem.sh\n",
      "[  899.950811] [   2183]  1000  2183    34763    28359   319488     1404             0 newmem.sh\n",
      "[  899.950812] [   2184]  1000  2184    34895    28556   311296     1381             0 newmem.sh\n",
      "[  899.950813] [   2185]  1000  2185    34730    28261   311296     1486             0 newmem.sh\n",
      "[  899.950814] [   2186]  1000  2186    34796    28534   311296     1332             0 newmem.sh\n",
      "[  899.950830] [   2211]  1000  2211    34367    27898   303104     1505             0 newmem.sh\n",
      "[  899.950831] [   2212]  1000  2212    34400    27943   319488     1531             0 newmem.sh\n",
      "[  899.950832] [   2213]  1000  2213    34334    27967   311296     1414             0 newmem.sh\n",
      "[  899.950833] [   2214]  1000  2214    34301    27987   315392     1360             0 newmem.sh\n",
      "[  899.950834] [   2215]  1000  2215    34697    28338   319488     1400             0 newmem.sh\n",
      "[  899.950835] [   2216]  1000  2216    34598    28215   311296     1403             0 newmem.sh\n",
      "[  899.950836] [   2217]  1000  2217    34598    28127   311296     1471             0 newmem.sh\n",
      "[  899.950837] [   2218]  1000  2218    34466    28125   315392     1407             0 newmem.sh\n",
      "[  899.950838] [   2219]  1000  2219    34268    27932   319488     1402             0 newmem.sh\n",
      "[  899.950839] [   2220]  1000  2220    34037    27617   315392     1456             0 newmem.sh\n",
      "[  899.950840] [   2222]  1000  2222    34433    28138   319488     1356             0 newmem.sh\n",
      "[  899.950841] [   2224]  1000  2224    34664    28390   323584     1338             0 newmem.sh\n",
      "[  899.950842] [   2225]  1000  2225    34664    28277   319488     1430             0 newmem.sh\n",
      "[  899.950843] [   2226]  1000  2226    34400    27995   311296     1407             0 newmem.sh\n",
      "[  899.950845] [   2242]  1000  2242    34598    28156   315392     1445             0 newmem.sh\n",
      "[  899.950849] oom-kill:constraint=CONSTRAINT_NONE,nodemask=(null),cpuset=/,mems_allowed=0,global_oom,task_memcg=/,task=newmem.sh,pid=2184,uid=1000\n",
      "[  899.950856] Out of memory: Killed process 2184 (newmem.sh) total-vm:139580kB, anon-rss:114220kB, file-rss:4kB, shmem-rss:0kB, UID:1000 pgtables:304kB oom_score_adj:0\n",
      "[  899.954323] oom_reaper: reaped process 2184 (newmem.sh), now anon-rss:0kB, file-rss:0kB, shmem-rss:0kB\n",
      "[  909.364050] newmem.sh invoked oom-killer: gfp_mask=0x100cca(GFP_HIGHUSER_MOVABLE), order=0, oom_score_adj=0\n",
      "[  909.364143] CPU: 0 PID: 2176 Comm: newmem.sh Tainted: G           O      5.4.0-53-generic #59~18.04.1-Ubuntu\n",
      "[  909.364506] [   2172]  1000  2172    35852    29188   327680     1684             0 newmem.sh\n",
      "[  909.364507] [   2173]  1000  2173    35588    29053   323584     1615             0 newmem.sh\n",
      "[  909.364525] [   2174]  1000  2174    35918    29472   331776     1515             0 newmem.sh\n",
      "[  909.364526] [   2175]  1000  2175    35885    29287   323584     1647             0 newmem.sh\n",
      "[  909.364527] [   2176]  1000  2176    35555    29016   323584     1602             0 newmem.sh\n",
      "[  909.364529] [   2177]  1000  2177    35258    28782   327680     1519             0 newmem.sh\n",
      "[  909.364530] [   2178]  1000  2178    35918    29228   331776     1765             0 newmem.sh\n",
      "[  909.364531] [   2179]  1000  2179    35555    28977   311296     1637             0 newmem.sh\n",
      "[  909.364532] [   2180]  1000  2180    35522    28844   323584     1740             0 newmem.sh\n",
      "[  909.364533] [   2181]  1000  2181    35555    29162   315392     1457             0 newmem.sh\n",
      "[  909.364534] [   2182]  1000  2182    35456    28926   315392     1580             0 newmem.sh\n",
      "[  909.364536] [   2183]  1000  2183    35918    29420   327680     1565             0 newmem.sh\n",
      "[  909.364537] [   2185]  1000  2185    35984    29318   319488     1720             0 newmem.sh\n",
      "[  909.364538] [   2186]  1000  2186    36050    29564   319488     1568             0 newmem.sh\n",
      "[  909.364635] [   2211]  1000  2211    35489    28889   311296     1650             0 newmem.sh\n",
      "[  909.364637] [   2212]  1000  2212    35588    28987   327680     1651             0 newmem.sh\n",
      "[  909.364639] [   2213]  1000  2213    35456    29019   319488     1508             0 newmem.sh\n",
      "[  909.364640] [   2214]  1000  2214    35390    28896   323584     1551             0 newmem.sh\n",
      "[  909.364641] [   2215]  1000  2215    35951    29489   327680     1511             0 newmem.sh\n",
      "[  909.364642] [   2216]  1000  2216    35753    29283   319488     1551             0 newmem.sh\n",
      "[  909.364643] [   2217]  1000  2217    35786    29228   323584     1564             0 newmem.sh\n",
      "[  909.364645] [   2218]  1000  2218    35654    29202   323584     1526             0 newmem.sh\n",
      "[  909.364646] [   2219]  1000  2219    35456    28959   327680     1567             0 newmem.sh\n",
      "[  909.364647] [   2220]  1000  2220    35324    28774   323584     1612             0 newmem.sh\n",
      "[  909.364648] [   2222]  1000  2222    35753    29284   331776     1524             0 newmem.sh\n",
      "[  909.364649] [   2224]  1000  2224    35885    29552   335872     1397             0 newmem.sh\n",
      "[  909.364651] [   2225]  1000  2225    35852    29305   331776     1571             0 newmem.sh\n",
      "[  909.364652] [   2226]  1000  2226    35555    29080   323584     1550             0 newmem.sh\n",
      "[  909.364655] [   2242]  1000  2242    35753    29262   327680     1542             0 newmem.sh\n"
     ]
    }
   ],
   "source": [
    "%%bash\n",
    "cat 2/dmesg30.txt"
   ]
  },
  {
   "cell_type": "markdown",
   "metadata": {},
   "source": [
    "При k = 30 и n = 4090000 / 3 - работает\n"
   ]
  },
  {
   "cell_type": "code",
   "execution_count": 7,
   "metadata": {},
   "outputs": [
    {
     "data": {
      "text/plain": [
       "1363333"
      ]
     },
     "execution_count": 7,
     "metadata": {},
     "output_type": "execute_result"
    }
   ],
   "source": [
    "4090000 // 3"
   ]
  },
  {
   "cell_type": "code",
   "execution_count": null,
   "metadata": {},
   "outputs": [],
   "source": []
  }
 ],
 "metadata": {
  "kernelspec": {
   "display_name": "Python 3",
   "language": "python",
   "name": "python3"
  },
  "language_info": {
   "codemirror_mode": {
    "name": "ipython",
    "version": 3
   },
   "file_extension": ".py",
   "mimetype": "text/x-python",
   "name": "python",
   "nbconvert_exporter": "python",
   "pygments_lexer": "ipython3",
   "version": "3.8.5"
  }
 },
 "nbformat": 4,
 "nbformat_minor": 4
}
